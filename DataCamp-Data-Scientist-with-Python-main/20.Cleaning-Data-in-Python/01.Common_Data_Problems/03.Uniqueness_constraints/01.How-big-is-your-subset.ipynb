{
 "cells": [
  {
   "attachments": {},
   "cell_type": "markdown",
   "metadata": {},
   "source": [
    "### How big is your subset?\n",
    "\n",
    "You have the following loans DataFrame which contains loan and credit score data for consumers, and some metadata such as their first and last names. You want to find both complete and incomplete duplicates using .duplicated().\n",
    "first_name \tlast_name \tcredit_score \thas_loan\n",
    "Justin \tSaddlemeyer \t600 \t1\n",
    "Hadrien \tLacroix \t450 \t0\n",
    "\n",
    "Choose the correct usage of .duplicated() below:"
   ]
  },
  {
   "attachments": {},
   "cell_type": "markdown",
   "metadata": {},
   "source": [
    "Possible Answers\n",
    "\n",
    "-   loans.duplicated()\n",
    "      Because the default method returns both complete and incomplete duplicates.\n",
    "\n",
    "-   loans.duplicated(subset = 'first_name')\n",
    "      Because constraining the duplicate rows to the first name lets me find incomplete duplicates as well.\n",
    "\n",
    "-   loans.duplicated(subset = ['first_name', 'last_name'], keep = False)\n",
    "      Because subsetting on consumer metadata and not discarding any duplicate returns all duplicated rows.\n",
    "\n",
    "-   loans.duplicated(subset = ['first_name', 'last_name'], keep = 'first')\n",
    "      Because this drops all duplicates."
   ]
  },
  {
   "attachments": {},
   "cell_type": "markdown",
   "metadata": {},
   "source": [
    "Answer: <br>\n",
    "\n",
    "loans.duplicated(subset = ['first_name', 'last_name'], keep = False)<br>\n",
    "      Because subsetting on consumer metadata and not discarding any duplicate returns all duplicated rows."
   ]
  }
 ],
 "metadata": {
  "language_info": {
   "name": "python"
  },
  "orig_nbformat": 4
 },
 "nbformat": 4,
 "nbformat_minor": 2
}
